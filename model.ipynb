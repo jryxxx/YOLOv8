{
 "cells": [
  {
   "cell_type": "code",
   "execution_count": null,
   "metadata": {},
   "outputs": [],
   "source": [
    "# model\n",
    "from ultralytics import YOLO\n",
    "import torch\n",
    "\n",
    "model = YOLO(\"cfg/LSKA.yaml\")\n",
    "model.load(\"pt/pretrain.pt\")\n",
    "torch.save(model, \"1.pt\")"
   ]
  },
  {
   "cell_type": "code",
   "execution_count": 11,
   "metadata": {},
   "outputs": [
    {
     "name": "stdout",
     "output_type": "stream",
     "text": [
      "\n",
      "image 1/1 /Users/jrypy/Downloads/yolov8/test.jpg: 384x640 1 pedestrian, 3 peoples, 20 cars, 3 vans, 1 tricycle, 12 motors, 51.9ms\n",
      "Speed: 1.6ms preprocess, 51.9ms inference, 0.6ms postprocess per image at shape (1, 3, 384, 640)\n",
      "None\n"
     ]
    }
   ],
   "source": [
    "# infer\n",
    "import cv2\n",
    "import numpy\n",
    "from ultralytics import YOLO\n",
    "model = YOLO('results/n/trainCoordAttention/weights/best.pt')\n",
    "\n",
    "results = model('test.jpg')\n",
    "for r in results:\n",
    "    print(r.probs)\n",
    "# res = results[0].plot()\n",
    "# cv2.imwrite(\"result.jpg\", res)\n"
   ]
  }
 ],
 "metadata": {
  "kernelspec": {
   "display_name": "yolov8",
   "language": "python",
   "name": "python3"
  },
  "language_info": {
   "codemirror_mode": {
    "name": "ipython",
    "version": 3
   },
   "file_extension": ".py",
   "mimetype": "text/x-python",
   "name": "python",
   "nbconvert_exporter": "python",
   "pygments_lexer": "ipython3",
   "version": "3.9.18"
  }
 },
 "nbformat": 4,
 "nbformat_minor": 2
}
